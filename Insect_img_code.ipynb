{
 "cells": [
  {
   "cell_type": "code",
   "execution_count": 1,
   "id": "712c1f68",
   "metadata": {},
   "outputs": [],
   "source": [
    "#import modules\n",
    "\n",
    "import pandas as pd \n",
    "import matplotlib.pyplot as plt\n",
    "import matplotlib.image as mpimg\n",
    "import os \n",
    "%matplotlib inline\n",
    "from PIL import Image\n",
    "from numpy import asarray\n",
    "import numpy as np \n",
    "from os import walk\n",
    "from tensorflow.keras.utils import load_img\n",
    "def change(string):\n",
    "    result = ''\n",
    "    for i in range(len(string)):\n",
    "        if string[i] == \"\\\\\":\n",
    "            result += '/'\n",
    "        else:\n",
    "            result += string[i]\n",
    "    return result[2:] if result[0] == 'C' else result"
   ]
  },
  {
   "cell_type": "code",
   "execution_count": 2,
   "id": "010d1488",
   "metadata": {},
   "outputs": [],
   "source": [
    "path = r'C:\\Users\\elanu\\Desktop\\data\\Insect image dataset (kaggle)\\database'\n",
    "os.chdir(path)\n",
    "folder_dir = change(path) #createing working dir variable for for loop"
   ]
  },
  {
   "cell_type": "code",
   "execution_count": 3,
   "id": "9ea1280d",
   "metadata": {},
   "outputs": [
    {
     "name": "stdout",
     "output_type": "stream",
     "text": [
      "['1035167', '1035185', '1035194', '1035195', '1035204', '1035208', '1035231', '1035290', '1035366', '1035434', '1035542', '1035551', '1035578', '1035864', '1035929', '1035931', '1036066', '1036128', '1036154', '1036192', '1036203', '1036216', '1036255', '1036286', '1036789', '1036796', '1036893', '1036899', '1036917', '1036958', '1037293', '1037319', '1037633', '4308786', '4308787', '4308789', '4308790', '4308800', '4308801', '4308804', '4308805', '4308806', '4308807', '4308811', '4308812', '4308815', '4470539', '4470555', '4470765', '4470801', '4471071', '4471113', '4471202', '4471235', '4471238', '4471269', '4472828', '4472849', '4472858', '4472884', '4472897', '4472900', '4472907', '4472913', '4472929', '4473127', '4473277', '4473297', '4473319', '4473320', '4473617', '4473795', '4473834', '4473860', '4473874', '4473903', '4473974', '4474146', '4474169', '4474653', '4474780', '4474861', '4474974', '4474998', '4475099', '4475127', '4475128', '4475140', '4475157', '4475179', '4475181', '4475188', '4475213', '4475677', '4475685', '4475707', '4475757', '4475761', '4475794', '4475846', '4475902', '4475908', '4476667', '4476832', '4478057', '4478679', '4478695', '4478699', '4478842', '4479052', '4479870', '4479890', '4479895', '4480200', '4480271', '4480302', '4480315', '4480348', '4480480', '4480485', '4480502', '4988207', '4988354', '4988363', '4988447', '4988484', '4988516', '5023047', '5023058', '5716406', '5716408', '5716409', '5716411', '5753612', '5753653', '5753697', '5753720', '5753725', '5753757', '5754974', '5755011', '5755027', '5755044', '5755051', '5755060', '5755066', '5755075', '5755079', '5755080', '5755082', '5755175', '5755203', '5755293', '5755296', '5755302', '5755322', '5755339', '5755451', '5755456', '5755562', '5755950', '5755952', '5755954', '5755969', '5755978', '5755982', '5755986', '5756010', '5756015', '5756018', '5756021', '5756368', '5756374', '5756814', '5756874', '5756945', '5757120', '5757155', '5757192', '5757205', '5757207', '5757211', '5757304', '5757308', '5757310', '5872109', '5872111', '5872119', '5872124', '5872127', '5872129', '5872143', '5872147', '5872148', '5872219', '5872829', '5872954', '5873211', '5873214', '5873215', '5873218', '5873220', '5873271', '5873357', '5873524', '5873525', '6097854', '6097857', '6097861', '6097862', '6097864', '6097865', '6097867', '6097868', '6097869', '6097871', '6097872', '6097878', '6097879', '6097882', '6097883', '6097885', '6097886', '6097890', '6097892', '6097896', '6097897', '6097900', '6097906', '6097912', '6097923', '6097924', '6097926', '6097927', '6097930', '7387665', '7416497', '7419401', '7508714', '7582513', '7613168', '7639821', '7641814', '7642452', '7683246', '7708350', '7727698', '7792354', '7840196', '7856746', '7873810', '7888598', '7917481', '7975487', '8019310', '8047965', '8051076', '8056040', '8068514', '8104778', '8137203', '8139233', '8186956', '8236590', '8264200', '8267077', '8300237', '8307815', '8335452', '8378220', '8417764', '8423772', '8563753', '8600499', '8607776', '9027622', '9206709', '9251010', '9252314', '9268484', '9314786', '9346940', '9364935', '9377664', '9414758', '9415910', '9444427', '9479706', '9491931', '9533851', '9581584']\n"
     ]
    }
   ],
   "source": [
    "def add_path(number_list,before): #absolute path\n",
    "    for i in range(len(number_list)):\n",
    "        number_list[i] = before+'/'+str(number_list[i])\n",
    "    return number_list\n",
    "\n",
    "    \n",
    "f = []     \n",
    "label = [] # contains all np arrays\n",
    "paths = [] # contains path of all np arrays/pictures\n",
    "Id = []    #id (folder names of insects because there are no species names given)\n",
    "number_of_times_Id = [] #the amount of images there are in each folder aka Id\n",
    "\n",
    "c = 0 \n",
    "for (dirpath, dirnames, filenames) in walk(folder_dir): # folder_dir = database \n",
    "    Id.extend(dirnames) #add all folder names to the Id list\n",
    "    dirnames = add_path(dirnames,folder_dir) # find all dirnames' absolute path # this is in a list\n",
    "    for folders_insect in dirnames: \n",
    "#         print(folders_insect)\n",
    "#         if c==5:  # for testing\n",
    "#              break \n",
    "        for (dirpath1, dirnames1, filenames1) in walk(folders_insect): # inside one of the folders \n",
    "#             print(dirpath1) # each folder inside database \n",
    "            number_of_times_Id.append(len(filenames1)) #the amount of files in folders_insect\n",
    "            filenames1 = add_path(filenames1,dirpath1)\n",
    "            one_label = [] # contains all pictures of one insect species \n",
    "            path_image = [] #contains all paths of pictures\n",
    "            for pictures in filenames1: # all the pictures inside one of the folders of database \n",
    "#                print(pictures)   #print all paths of pictures\n",
    "                image = Image.open(pictures) #open images\n",
    "                image_array = np.array(image) #convert to array\n",
    "#                     print(image_array)\n",
    "                one_label.append(image_array) #append array to one_label\n",
    "                path_image.append(pictures) #append paths to path_image\n",
    "            label.append(one_label)\n",
    "            paths.append(path_image) \n",
    "#         c+=1 \n",
    "# print(label)\n",
    "# print(paths)\n",
    "print(Id)     \n",
    "            "
   ]
  },
  {
   "cell_type": "code",
   "execution_count": 4,
   "id": "aca31093",
   "metadata": {},
   "outputs": [
    {
     "name": "stdout",
     "output_type": "stream",
     "text": [
      "['1035167' '1035185' '1035194' '1035195' '1035204' '1035208' '1035231'\n",
      " '1035290' '1035366' '1035434' '1035542' '1035551' '1035578' '1035864'\n",
      " '1035929' '1035931' '1036066' '1036128' '1036154' '1036192' '1036203'\n",
      " '1036216' '1036255' '1036286' '1036789' '1036796' '1036893' '1036899'\n",
      " '1036917' '1036958' '1037293' '1037319' '1037633' '4308786' '4308787'\n",
      " '4308789' '4308790' '4308800' '4308801' '4308804' '4308805' '4308806'\n",
      " '4308807' '4308811' '4308812' '4308815' '4470539' '4470555' '4470765'\n",
      " '4470801' '4471071' '4471113' '4471202' '4471235' '4471238' '4471269'\n",
      " '4472828' '4472849' '4472858' '4472884' '4472897' '4472900' '4472907'\n",
      " '4472913' '4472929' '4473127' '4473277' '4473297' '4473319' '4473320'\n",
      " '4473617' '4473795' '4473834' '4473860' '4473874' '4473903' '4473974'\n",
      " '4474146' '4474169' '4474653' '4474780' '4474861' '4474974' '4474998'\n",
      " '4475099' '4475127' '4475128' '4475140' '4475157' '4475179' '4475181'\n",
      " '4475188' '4475213' '4475677' '4475685' '4475707' '4475757' '4475761'\n",
      " '4475794' '4475846' '4475902' '4475908' '4476667' '4476832' '4478057'\n",
      " '4478679' '4478695' '4478699' '4478842' '4479052' '4479870' '4479890'\n",
      " '4479895' '4480200' '4480271' '4480302' '4480315' '4480348' '4480480'\n",
      " '4480485' '4480502' '4988207' '4988354' '4988363' '4988447' '4988484'\n",
      " '4988516' '5023047' '5023058' '5716406' '5716408' '5716409' '5716411'\n",
      " '5753612' '5753653' '5753697' '5753720' '5753725' '5753757' '5754974'\n",
      " '5755011' '5755027' '5755044' '5755051' '5755060' '5755066' '5755075'\n",
      " '5755079' '5755080' '5755082' '5755175' '5755203' '5755293' '5755296'\n",
      " '5755302' '5755322' '5755339' '5755451' '5755456' '5755562' '5755950'\n",
      " '5755952' '5755954' '5755969' '5755978' '5755982' '5755986' '5756010'\n",
      " '5756015' '5756018' '5756021' '5756368' '5756374' '5756814' '5756874'\n",
      " '5756945' '5757120' '5757155' '5757192' '5757205' '5757207' '5757211'\n",
      " '5757304' '5757308' '5757310' '5872109' '5872111' '5872119' '5872124'\n",
      " '5872127' '5872129' '5872143' '5872147' '5872148' '5872219' '5872829'\n",
      " '5872954' '5873211' '5873214' '5873215' '5873218' '5873220' '5873271'\n",
      " '5873357' '5873524' '5873525' '6097854' '6097857' '6097861' '6097862'\n",
      " '6097864' '6097865' '6097867' '6097868' '6097869' '6097871' '6097872'\n",
      " '6097878' '6097879' '6097882' '6097883' '6097885' '6097886' '6097890'\n",
      " '6097892' '6097896' '6097897' '6097900' '6097906' '6097912' '6097923'\n",
      " '6097924' '6097926' '6097927' '6097930' '7387665' '7416497' '7419401'\n",
      " '7508714' '7582513' '7613168' '7639821' '7641814' '7642452' '7683246'\n",
      " '7708350' '7727698' '7792354' '7840196' '7856746' '7873810' '7888598'\n",
      " '7917481' '7975487' '8019310' '8047965' '8051076' '8056040' '8068514'\n",
      " '8104778' '8137203' '8139233' '8186956' '8236590' '8264200' '8267077'\n",
      " '8300237' '8307815' '8335452' '8378220' '8417764' '8423772' '8563753'\n",
      " '8600499' '8607776' '9027622' '9206709' '9251010' '9252314' '9268484'\n",
      " '9314786' '9346940' '9364935' '9377664' '9414758' '9415910' '9444427'\n",
      " '9479706' '9491931' '9533851' '9581584'] [213 599 245 570 164 194 221 471  54 386 102 516 475 566  90 861 119 269\n",
      " 535 449 269 686 318 108 246  75 472 212 145  94  66 349 246 117 149 362\n",
      " 151 124 164 180 111 368 181 162 143 403  68 289 237 124 117  86  80 111\n",
      "  52 111 335 258 115 150 170  54 119 223 142  90  63 342 333  66 358 208\n",
      " 205 249 214 284 244 406 642 111  50 160 107  67 156  58  66 719  57  95\n",
      " 144  62 300 553  86 144 169 347 142 137 191 205 377 127  53  58 210 237\n",
      "  65 363 115 274 172 204  52 375 270 163 115 249  65 119 512 384 423 444\n",
      " 118 287 196 234  60 212 142 190 112 325 191 113  68 520 375  93  77 135\n",
      " 322  57 184 651 261 214 156  89  83 214  71 170 314 203 120  61 128 289\n",
      "  59 113 243 329 327  69 123 402 134 104 384 143 183 217  52  73  58 209\n",
      " 108 168 125 217 388 278 417 381 458 316 307 185 367 243 114 134 114 208\n",
      " 119 116 357 335 422 166 376 250  73 193  54 195 126 159 275 113 337 176\n",
      " 132 376 229 426 450  66 162 121 222 136  71 134 143 127 116 257  82  92\n",
      " 167  60 133  54 818 168  54 494 519 167  56 500 106  62 273 316 517 118\n",
      "  90 426 101 220 120 186  91 202 301  82 131  87 265 176  71  58 198 152\n",
      "  58 173 318 276 251  72 158 274 108 159 259 227 888 146  60  91 134 191\n",
      " 239 273 404]\n"
     ]
    }
   ],
   "source": [
    "label_Id= np.array([])\n",
    "\n",
    "for i,j in zip(Id, number_of_times_Id): #zip Id(folder names) and the number of images in those folders\n",
    "    label_Id = np.append(label_Id,[[i] * j])\n",
    "    \n",
    "\n",
    "unique, counts = np.unique(label_Id, return_counts=True)\n",
    "print(unique, counts)\n"
   ]
  },
  {
   "cell_type": "code",
   "execution_count": 5,
   "id": "c7a23328",
   "metadata": {},
   "outputs": [
    {
     "name": "stdout",
     "output_type": "stream",
     "text": [
      "63364\n",
      "63364\n"
     ]
    }
   ],
   "source": [
    "#creating the values for the following dictionary of data to put everything neatly together\n",
    "l = []\n",
    "for i in label:\n",
    "    l.extend(i)\n",
    "print(len(l))\n",
    "\n",
    "lp = []\n",
    "for i in paths:\n",
    "    lp.extend(i)\n",
    "print(len(lp))"
   ]
  },
  {
   "cell_type": "code",
   "execution_count": 6,
   "id": "b7068d7e",
   "metadata": {},
   "outputs": [
    {
     "data": {
      "text/html": [
       "<div>\n",
       "<style scoped>\n",
       "    .dataframe tbody tr th:only-of-type {\n",
       "        vertical-align: middle;\n",
       "    }\n",
       "\n",
       "    .dataframe tbody tr th {\n",
       "        vertical-align: top;\n",
       "    }\n",
       "\n",
       "    .dataframe thead th {\n",
       "        text-align: right;\n",
       "    }\n",
       "</style>\n",
       "<table border=\"1\" class=\"dataframe\">\n",
       "  <thead>\n",
       "    <tr style=\"text-align: right;\">\n",
       "      <th></th>\n",
       "      <th>label_a</th>\n",
       "      <th>paths</th>\n",
       "      <th>label_Id</th>\n",
       "    </tr>\n",
       "  </thead>\n",
       "  <tbody>\n",
       "    <tr>\n",
       "      <th>0</th>\n",
       "      <td>[[[134, 142, 145], [136, 144, 147], [136, 144,...</td>\n",
       "      <td>/Users/elanu/Desktop/data/Insect image dataset...</td>\n",
       "      <td>1035167</td>\n",
       "    </tr>\n",
       "    <tr>\n",
       "      <th>1</th>\n",
       "      <td>[[[153, 163, 165], [153, 163, 165], [153, 163,...</td>\n",
       "      <td>/Users/elanu/Desktop/data/Insect image dataset...</td>\n",
       "      <td>1035167</td>\n",
       "    </tr>\n",
       "    <tr>\n",
       "      <th>2</th>\n",
       "      <td>[[[155, 167, 165], [155, 167, 165], [154, 166,...</td>\n",
       "      <td>/Users/elanu/Desktop/data/Insect image dataset...</td>\n",
       "      <td>1035167</td>\n",
       "    </tr>\n",
       "    <tr>\n",
       "      <th>3</th>\n",
       "      <td>[[[157, 169, 169], [156, 168, 168], [155, 166,...</td>\n",
       "      <td>/Users/elanu/Desktop/data/Insect image dataset...</td>\n",
       "      <td>1035167</td>\n",
       "    </tr>\n",
       "    <tr>\n",
       "      <th>4</th>\n",
       "      <td>[[[158, 170, 170], [158, 170, 170], [158, 170,...</td>\n",
       "      <td>/Users/elanu/Desktop/data/Insect image dataset...</td>\n",
       "      <td>1035167</td>\n",
       "    </tr>\n",
       "  </tbody>\n",
       "</table>\n",
       "</div>"
      ],
      "text/plain": [
       "                                             label_a  \\\n",
       "0  [[[134, 142, 145], [136, 144, 147], [136, 144,...   \n",
       "1  [[[153, 163, 165], [153, 163, 165], [153, 163,...   \n",
       "2  [[[155, 167, 165], [155, 167, 165], [154, 166,...   \n",
       "3  [[[157, 169, 169], [156, 168, 168], [155, 166,...   \n",
       "4  [[[158, 170, 170], [158, 170, 170], [158, 170,...   \n",
       "\n",
       "                                               paths label_Id  \n",
       "0  /Users/elanu/Desktop/data/Insect image dataset...  1035167  \n",
       "1  /Users/elanu/Desktop/data/Insect image dataset...  1035167  \n",
       "2  /Users/elanu/Desktop/data/Insect image dataset...  1035167  \n",
       "3  /Users/elanu/Desktop/data/Insect image dataset...  1035167  \n",
       "4  /Users/elanu/Desktop/data/Insect image dataset...  1035167  "
      ]
     },
     "execution_count": 6,
     "metadata": {},
     "output_type": "execute_result"
    }
   ],
   "source": [
    "data = {'label_a':l, 'paths':lp, 'label_Id':label_Id}\n",
    "df = pd.DataFrame(data)\n",
    "df.head()\n"
   ]
  },
  {
   "cell_type": "code",
   "execution_count": 7,
   "id": "713ce0bf",
   "metadata": {},
   "outputs": [
    {
     "data": {
      "text/plain": [
       "'C:\\\\Users\\\\elanu\\\\Desktop\\\\data\\\\Insect image dataset (kaggle)'"
      ]
     },
     "execution_count": 7,
     "metadata": {},
     "output_type": "execute_result"
    }
   ],
   "source": [
    "os.chdir('C:\\\\Users\\\\elanu\\\\Desktop\\\\insect_rep') #change dir to create the final csv file in the right folder\n",
    "os.getcwd()"
   ]
  },
  {
   "cell_type": "code",
   "execution_count": 8,
   "id": "b19b38d1",
   "metadata": {},
   "outputs": [],
   "source": [
    "df.to_csv('data_insect_img.csv', index = False)  #create the final csv file\n",
    "df1=pd.read_csv('data_insect_img.csv')"
   ]
  },
  {
   "cell_type": "code",
   "execution_count": 10,
   "id": "88b3f627",
   "metadata": {},
   "outputs": [
    {
     "data": {
      "text/plain": [
       "(63364, 3)"
      ]
     },
     "execution_count": 10,
     "metadata": {},
     "output_type": "execute_result"
    }
   ],
   "source": [
    "df1.head()\n",
    "df.shape"
   ]
  }
 ],
 "metadata": {
  "kernelspec": {
   "display_name": "Python 3 (ipykernel)",
   "language": "python",
   "name": "python3"
  },
  "language_info": {
   "codemirror_mode": {
    "name": "ipython",
    "version": 3
   },
   "file_extension": ".py",
   "mimetype": "text/x-python",
   "name": "python",
   "nbconvert_exporter": "python",
   "pygments_lexer": "ipython3",
   "version": "3.9.12"
  }
 },
 "nbformat": 4,
 "nbformat_minor": 5
}
